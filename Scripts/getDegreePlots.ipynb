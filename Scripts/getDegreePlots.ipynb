{
 "cells": [
  {
   "cell_type": "code",
   "execution_count": 1,
   "metadata": {
    "collapsed": true
   },
   "outputs": [],
   "source": [
    "import json"
   ]
  },
  {
   "cell_type": "code",
   "execution_count": 4,
   "metadata": {
    "collapsed": true
   },
   "outputs": [],
   "source": [
    "with open('degree_result.json') as f:\n",
    "    data = json.load(f)"
   ]
  },
  {
   "cell_type": "code",
   "execution_count": 7,
   "metadata": {},
   "outputs": [
    {
     "data": {
      "text/plain": [
       "{'1': 187776,\n",
       " '10': 6,\n",
       " '11': 6,\n",
       " '12': 11,\n",
       " '13': 4,\n",
       " '14': 5,\n",
       " '15': 3,\n",
       " '16': 2,\n",
       " '17': 2,\n",
       " '2': 3934,\n",
       " '20': 1,\n",
       " '21': 1,\n",
       " '22': 5,\n",
       " '26': 1,\n",
       " '27': 1,\n",
       " '3': 518,\n",
       " '31': 1,\n",
       " '34': 1,\n",
       " '35': 1,\n",
       " '37': 2,\n",
       " '4': 174,\n",
       " '43': 2,\n",
       " '47': 1,\n",
       " '49': 1,\n",
       " '5': 87,\n",
       " '6': 38,\n",
       " '7': 16,\n",
       " '8': 19,\n",
       " '9': 10}"
      ]
     },
     "execution_count": 7,
     "metadata": {},
     "output_type": "execute_result"
    }
   ],
   "source": [
    "data['csv_1.csv']"
   ]
  },
  {
   "cell_type": "code",
   "execution_count": null,
   "metadata": {
    "collapsed": true
   },
   "outputs": [],
   "source": []
  }
 ],
 "metadata": {
  "kernelspec": {
   "display_name": "Python [conda root]",
   "language": "python",
   "name": "conda-root-py"
  },
  "language_info": {
   "codemirror_mode": {
    "name": "ipython",
    "version": 3
   },
   "file_extension": ".py",
   "mimetype": "text/x-python",
   "name": "python",
   "nbconvert_exporter": "python",
   "pygments_lexer": "ipython3",
   "version": "3.6.3"
  }
 },
 "nbformat": 4,
 "nbformat_minor": 2
}
