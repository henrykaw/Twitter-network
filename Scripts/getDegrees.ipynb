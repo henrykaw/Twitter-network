{
 "cells": [
  {
   "cell_type": "code",
   "execution_count": 3,
   "metadata": {},
   "outputs": [
    {
     "name": "stdout",
     "output_type": "stream",
     "text": [
      "['csv_01.csv', 'csv_02.csv']\n",
      "csv_01.csv\n",
      "Dict loaded\n",
      "csv_02.csv\n",
      "Dict loaded\n"
     ]
    }
   ],
   "source": [
    "import pandas as pd\n",
    "from os import listdir\n",
    "from collections import Counter\n",
    "import json\n",
    "\n",
    "files = []\n",
    "replyDict = {}\n",
    "\n",
    "#Get list of relevant files\n",
    "for file in listdir():\n",
    "    if file.startswith('csv_'):\n",
    "        files.append(file)\n",
    "files = sorted(files)\n",
    "print(files)\n",
    "\n",
    "for i ,f in enumerate(files, start=1):\n",
    "    replyDict = {}\n",
    "    degreeDict= {}\n",
    "    degreeList = []\n",
    "    print(f)\n",
    "    df = pd.read_csv(f,nrows=1000, names=['id1','id2','weigth'])\n",
    "    for index,row in df.iterrows():\n",
    "            if row['id1'] in replyDict:\n",
    "                if row['id2'] not in replyDict[row['id1']]:\n",
    "                    replyDict[row['id1']].append(row['id2'])\n",
    "            else:\n",
    "                replyDict[row['id1']] = [row['id2']]\n",
    "            if row['id2'] in replyDict:\n",
    "                if row['id1'] not in replyDict[row['id2']]:\n",
    "                    replyDict[row['id2']].append(row['id1'])\n",
    "            else:\n",
    "                replyDict[row['id2']] = [row['id1']]\n",
    "    print(\"Dict loaded\")\n",
    "    for item in replyDict:\n",
    "        degreeList.append(len(replyDict[item]))\n",
    "    degreeDict[f] = dict(Counter(degreeList))\n",
    "    with open('replyDict_csv_'+str(i)+'.json', 'w') as fp:\n",
    "        json.dump(replyDict, fp)\n",
    "    with open('degree_result_csv_'+str(i)+'.json', 'w') as fp:\n",
    "        json.dump(degreeDict, fp)"
   ]
  },
  {
   "cell_type": "code",
   "execution_count": null,
   "metadata": {
    "collapsed": true
   },
   "outputs": [],
   "source": []
  }
 ],
 "metadata": {
  "kernelspec": {
   "display_name": "Python [conda root]",
   "language": "python",
   "name": "conda-root-py"
  },
  "language_info": {
   "codemirror_mode": {
    "name": "ipython",
    "version": 3
   },
   "file_extension": ".py",
   "mimetype": "text/x-python",
   "name": "python",
   "nbconvert_exporter": "python",
   "pygments_lexer": "ipython3",
   "version": "3.6.3"
  }
 },
 "nbformat": 4,
 "nbformat_minor": 2
}
