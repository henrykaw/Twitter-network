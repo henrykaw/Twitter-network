{
 "cells": [
  {
   "cell_type": "code",
   "execution_count": 8,
   "metadata": {},
   "outputs": [
    {
     "name": "stdout",
     "output_type": "stream",
     "text": [
      "csv_2.csv\n",
      "Graph loaded\n",
      "csv_1.csv\n",
      "Graph loaded\n"
     ]
    }
   ],
   "source": [
    "import pandas as pd\n",
    "import networkx as nx\n",
    "from collections import Counter\n",
    "from os import listdir\n",
    "import json\n",
    "files = []\n",
    "csv_dict = {}\n",
    "\n",
    "\n",
    "for file in listdir():\n",
    "    if file.startswith('csv_'):\n",
    "        files.append(file)\n",
    "        csv_dict[file]= {}\n",
    "\n",
    "\n",
    "for f in files:\n",
    "    print(f)\n",
    "    df = pd.read_csv(f, names=['id1','id2','weigth'])\n",
    "    G = nx.Graph()\n",
    "    for index,row in df.iterrows():\n",
    "        G.add_edge(row['id1'],row['id2'], weight=row['weigth'])\n",
    "    print(\"Graph loaded\")\n",
    "    csv_dict[f]['num_nodes'] = G.number_of_nodes()\n",
    "    csv_dict[f]['num_egdes'] = G.number_of_edges()\n",
    "    csv_dict[f]['clustering'] = nx.average_clustering(G)\n",
    "    csv_dict[f]['degree'] = dict(Counter(dict(nx.degree(G)).values()))\n",
    "\n",
    "with open('result.json', 'w') as fp:\n",
    "    json.dump(csv_dict, fp)"
   ]
  }
 ],
 "metadata": {
  "kernelspec": {
   "display_name": "Python [conda root]",
   "language": "python",
   "name": "conda-root-py"
  },
  "language_info": {
   "codemirror_mode": {
    "name": "ipython",
    "version": 3
   },
   "file_extension": ".py",
   "mimetype": "text/x-python",
   "name": "python",
   "nbconvert_exporter": "python",
   "pygments_lexer": "ipython3",
   "version": "3.6.3"
  }
 },
 "nbformat": 4,
 "nbformat_minor": 2
}
