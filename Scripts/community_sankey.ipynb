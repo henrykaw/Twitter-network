{
 "cells": [
  {
   "cell_type": "code",
   "execution_count": 1,
   "metadata": {
    "collapsed": true
   },
   "outputs": [],
   "source": [
    "import json, urllib\n",
    "from urllib.request import urlopen\n",
    "import pandas as pd\n",
    "import numpy as np\n",
    "import plotly.plotly as py"
   ]
  },
  {
   "cell_type": "code",
   "execution_count": 3,
   "metadata": {
    "scrolled": true
   },
   "outputs": [
    {
     "data": {
      "text/html": [
       "<iframe id=\"igraph\" scrolling=\"no\" style=\"border:none;\" seamless=\"seamless\" src=\"https://plot.ly/~s.houshmand1511/500.embed\" height=\"800px\" width=\"990px\"></iframe>"
      ],
      "text/plain": [
       "<plotly.tools.PlotlyDisplay object>"
      ]
     },
     "execution_count": 3,
     "metadata": {},
     "output_type": "execute_result"
    }
   ],
   "source": [
    "community_df = pd.read_csv('sankey_5.csv')\n",
    "\n",
    "data_trace = dict(\n",
    "    type='sankey',\n",
    "    domain = dict(\n",
    "      x =  [0,1],\n",
    "      y =  [0,1]\n",
    "    ),\n",
    "    orientation = \"h\",\n",
    "    valueformat = \".0f\",\n",
    "    aluesuffix = \"TWh\",\n",
    "    node = dict(\n",
    "      pad = 5,\n",
    "      thickness = 5,\n",
    "      line = dict(\n",
    "        color = \"black\",\n",
    "        width = 0.1\n",
    "      ),\n",
    "      label =  community_df['Node, Label'].dropna(axis=0, how='any'),\n",
    "      color = community_df['Color'].dropna(axis=0, how='any')\n",
    "    ),\n",
    "    link = dict(\n",
    "        source = community_df['Source'].dropna(axis=0, how='any'),\n",
    "        target = community_df['Target'].dropna(axis=0, how='any'),\n",
    "        value = community_df['Value'].dropna(axis=0, how='any'),\n",
    "        color=community_df['Link Color'].dropna(axis=0, how=\"any\"),\n",
    "  )\n",
    ")\n",
    "\n",
    "layout =  dict(\n",
    "    title = \"Community Tracking\",\n",
    "    height = 800,\n",
    "    width = 990,\n",
    "    font = dict(\n",
    "      size = 8\n",
    "    ),    \n",
    ")\n",
    "\n",
    "\n",
    "fig = dict(data=[data_trace], layout=layout)\n",
    "py.iplot(fig, validate=False)"
   ]
  },
  {
   "cell_type": "code",
   "execution_count": null,
   "metadata": {
    "collapsed": true
   },
   "outputs": [],
   "source": []
  },
  {
   "cell_type": "code",
   "execution_count": null,
   "metadata": {
    "collapsed": true
   },
   "outputs": [],
   "source": []
  }
 ],
 "metadata": {
  "kernelspec": {
   "display_name": "Python 3",
   "language": "python",
   "name": "python3"
  },
  "language_info": {
   "codemirror_mode": {
    "name": "ipython",
    "version": 3
   },
   "file_extension": ".py",
   "mimetype": "text/x-python",
   "name": "python",
   "nbconvert_exporter": "python",
   "pygments_lexer": "ipython3",
   "version": "3.6.3"
  }
 },
 "nbformat": 4,
 "nbformat_minor": 2
}
